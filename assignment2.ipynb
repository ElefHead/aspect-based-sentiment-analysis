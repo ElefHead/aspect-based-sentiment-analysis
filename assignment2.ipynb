{
 "cells": [
  {
   "cell_type": "code",
   "execution_count": 2,
   "metadata": {},
   "outputs": [],
   "source": [
    "import pandas as pd\n",
    "from os import path"
   ]
  },
  {
   "cell_type": "code",
   "execution_count": 3,
   "metadata": {},
   "outputs": [],
   "source": [
    "data_path = \"./data\"\n",
    "electronics_data_file = \"data 1_train.csv\"\n",
    "food_data_file = \"data 2_train.csv\""
   ]
  },
  {
   "cell_type": "code",
   "execution_count": 4,
   "metadata": {},
   "outputs": [],
   "source": [
    "elec_data = pd.read_csv(path.join(data_path, electronics_data_file))\n",
    "food_data = pd.read_csv(path.join(data_path, food_data_file))"
   ]
  },
  {
   "cell_type": "code",
   "execution_count": 7,
   "metadata": {},
   "outputs": [
    {
     "name": "stdout",
     "output_type": "stream",
     "text": [
      "example_id        0\n text             0\n aspect_term      0\n term_location    0\n class            0\ndtype: int64\n"
     ]
    }
   ],
   "source": [
    "elec_data_null = elec_data.isna().sum(axis=0)\n",
    "print(elec_data_null)"
   ]
  },
  {
   "cell_type": "code",
   "execution_count": 9,
   "metadata": {},
   "outputs": [
    {
     "name": "stdout",
     "output_type": "stream",
     "text": [
      "example_id        0\n text             0\n aspect_term      0\n term_location    0\n class            0\ndtype: int64\n"
     ]
    }
   ],
   "source": [
    "food_data_null = food_data.isna().sum(axis=0)\n",
    "print(food_data_null)"
   ]
  },
  {
   "cell_type": "code",
   "execution_count": null,
   "metadata": {},
   "outputs": [],
   "source": []
  }
 ],
 "metadata": {
  "kernelspec": {
   "display_name": "Python 3",
   "language": "python",
   "name": "python3"
  },
  "language_info": {
   "codemirror_mode": {
    "name": "ipython",
    "version": 3
   },
   "file_extension": ".py",
   "mimetype": "text/x-python",
   "name": "python",
   "nbconvert_exporter": "python",
   "pygments_lexer": "ipython3",
   "version": "3.6.4"
  }
 },
 "nbformat": 4,
 "nbformat_minor": 2
}
